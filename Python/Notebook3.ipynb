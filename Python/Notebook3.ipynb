{
 "cells": [
  {
   "cell_type": "code",
   "execution_count": 1,
   "metadata": {},
   "outputs": [],
   "source": [
    "import pandas as pd\n",
    "import os\n",
    "from itertools import product\n",
    "from tqdm import tqdm \n",
    "from joblib import Parallel, delayed"
   ]
  },
  {
   "cell_type": "markdown",
   "metadata": {},
   "source": [
    "## Load and group data"
   ]
  },
  {
   "cell_type": "code",
   "execution_count": 2,
   "metadata": {},
   "outputs": [],
   "source": [
    "folder = \"C:/Users/Oscar/Documents/Proyecto_Data_Science/\"\n",
    "file = \"sales_train.csv\"\n",
    "out_file = 'df2.csv'\n",
    "\n",
    "if os.path.exists(os.path.join(folder, out_file)):\n",
    "    \n",
    "    df2 = pd.read_csv(os.path.join(folder, out_file))\n",
    "    \n",
    "else:                \n",
    "\n",
    "    df = pd.read_csv(os.path.join(folder, file))\n",
    "    df['date'] = pd.to_datetime(df.date)\n",
    "    df['month'] = df.date.dt.to_period('M').astype(str)\n",
    "\n",
    "    df2 = df.groupby(['shop_id', 'item_id', 'month']).item_cnt_day.sum()\n",
    "    df2.columns = ['shop_id', 'item_id', 'month', 'item_cnt_month']\n",
    "    df2 = df2.reset_index()\n",
    "    df2.to_csv(os.path.join(folder, out_file), index=False)    "
   ]
  },
  {
   "cell_type": "code",
   "execution_count": 13,
   "metadata": {},
   "outputs": [],
   "source": [
    "shops = df2.shop_id.unique()\n",
    "items = df2.item_id.unique()\n",
    "new_index = list(map(lambda x: '2013-%02d' % x, range(1, 13)))\n",
    "\n",
    "iterables = list(product(shops, items))"
   ]
  },
  {
   "cell_type": "code",
   "execution_count": 4,
   "metadata": {},
   "outputs": [],
   "source": [
    "def add_missing_months(df, shop, item):\n",
    "    subdf = df[(df.shop_id == shop) & (df.item_id == item)]\n",
    "    subdf = subdf.set_index('month').reindex(new_index, fill_value = 0)\n",
    "    subdf['shop_id'] = shop\n",
    "    subdf['item_id'] = item\n",
    "    return subdf\n",
    "\n",
    "def pool_add_missing_months(df, chunk):\n",
    "    for shop, item in tqdm(chunk):\n",
    "        subdf = add_missing_months(df2, shop, item).reset_index()\n",
    "        subdf.to_csv(os.path.join(folder, out_file_final), header=False, index=False, mode='a')"
   ]
  },
  {
   "cell_type": "code",
   "execution_count": 5,
   "metadata": {},
   "outputs": [],
   "source": [
    "out_file_final = 'sales_train_month.csv'\n",
    "\n",
    "df3 = pd.DataFrame(columns=['month', 'shop_id', 'item_id', 'item_cnt_month'])\n",
    "df3.to_csv(os.path.join(folder, out_file_final), index=False)"
   ]
  },
  {
   "cell_type": "code",
   "execution_count": 17,
   "metadata": {},
   "outputs": [],
   "source": [
    "n_chunks = 1000\n",
    "chunk_len = int(len(iterables) / n_chunks)\n",
    "start = 0\n",
    "end = chunk_len\n",
    "\n",
    "chunks = []\n",
    "\n",
    "for i in range(n_chunks):\n",
    "    chunks.append(iterables[start:end:chunk_len])\n",
    "    start += chunk_len\n",
    "    end + chunk_len"
   ]
  },
  {
   "cell_type": "code",
   "execution_count": 18,
   "metadata": {},
   "outputs": [
    {
     "data": {
      "text/plain": [
       "1000"
      ]
     },
     "execution_count": 18,
     "metadata": {},
     "output_type": "execute_result"
    }
   ],
   "source": [
    "len(chunks)"
   ]
  },
  {
   "cell_type": "code",
   "execution_count": 22,
   "metadata": {},
   "outputs": [
    {
     "data": {
      "text/plain": [
       "[]"
      ]
     },
     "execution_count": 22,
     "metadata": {},
     "output_type": "execute_result"
    }
   ],
   "source": [
    "iterables[start:end]"
   ]
  },
  {
   "cell_type": "code",
   "execution_count": null,
   "metadata": {},
   "outputs": [],
   "source": []
  }
 ],
 "metadata": {
  "kernelspec": {
   "display_name": "Python 3",
   "language": "python",
   "name": "python3"
  },
  "language_info": {
   "codemirror_mode": {
    "name": "ipython",
    "version": 3
   },
   "file_extension": ".py",
   "mimetype": "text/x-python",
   "name": "python",
   "nbconvert_exporter": "python",
   "pygments_lexer": "ipython3",
   "version": "3.7.7"
  }
 },
 "nbformat": 4,
 "nbformat_minor": 4
}
